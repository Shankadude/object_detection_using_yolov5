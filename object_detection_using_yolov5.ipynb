# Required libraries
import torch
import cv2
from PIL import Image
import numpy as np
from matplotlib import pyplot as plt
from google.colab import files

# Clone YOLOv5 repository and install dependencies
!pip install -q torch torchvision torchaudio opencv-python pillow
!git clone https://github.com/ultralytics/yolov5
!pip install -r yolov5/requirements.txt

# Load the pretrained YOLOv5s model
model = torch.hub.load('ultralytics/yolov5', 'yolov5s', pretrained=True)
model.eval()

# Upload image using Colab file interface
uploaded = files.upload()
image_path = list(uploaded.keys())[0]

# Open and process image
img = Image.open(image_path)
img_array = np.array(img)
img_bgr = cv2.cvtColor(img_array, cv2.COLOR_RGB2BGR)

# Run inference on image
results = model(img_bgr)

# Print results in terminal
results.print()

# Show results (popup)
results.show()

# Save output image with annotations to 'runs/detect/exp'
results.save()

# Draw bounding boxes and labels using OpenCV
detections = results.pandas().xyxy[0]
for _, row in detections.iterrows():
    x1, y1, x2, y2 = int(row['xmin']), int(row['ymin']), int(row['xmax']), int(row['ymax'])
    label = f"{row['name']} {row['confidence']:.2f}"
    cv2.rectangle(img_array, (x1, y1), (x2, y2), (0, 255, 0), 2)
    cv2.putText(img_array, label, (x1, y1 - 10),
                cv2.FONT_HERSHEY_SIMPLEX, 0.6, (255, 0, 0), 2)

# Show image using matplotlib
plt.imshow(img_array)
plt.axis('off')
plt.title("Detected Image")
plt.show()
